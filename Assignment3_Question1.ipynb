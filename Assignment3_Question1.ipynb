{
  "nbformat": 4,
  "nbformat_minor": 0,
  "metadata": {
    "colab": {
      "name": "Assignment3_Question1",
      "provenance": []
    },
    "kernelspec": {
      "name": "python3",
      "display_name": "Python 3"
    },
    "language_info": {
      "name": "python"
    }
  },
  "cells": [
    {
      "cell_type": "markdown",
      "metadata": {
        "id": "BP3N7ZgDkLWP"
      },
      "source": [
        "#  **Question 1 Clustering modeling**"
      ]
    },
    {
      "cell_type": "code",
      "metadata": {
        "id": "2zn-NAxkS4D-"
      },
      "source": [
        "import numpy as np\n",
        "import pandas as pd\n",
        "from sklearn.cluster import KMeans\n",
        "import matplotlib.pyplot as plt\n",
        "from sklearn.manifold import TSNE as tsne\n",
        "import seaborn as sns\n",
        "import tensorflow as tf\n",
        "from sklearn.cluster import DBSCAN\n",
        "from sklearn.metrics.cluster import adjusted_mutual_info_score"
      ],
      "execution_count": 1,
      "outputs": []
    },
    {
      "cell_type": "markdown",
      "metadata": {
        "id": "B6EipjZnkvQk"
      },
      "source": [
        "Importing the csv file"
      ]
    },
    {
      "cell_type": "code",
      "metadata": {
        "colab": {
          "base_uri": "https://localhost:8080/",
          "height": 226
        },
        "id": "rPKP_9GWU5AA",
        "outputId": "e70d86e4-8d33-4f3d-cb6f-02da7fa2e879"
      },
      "source": [
        "data = pd.read_csv('/content/covtype_train.csv')\n",
        "data.head()\n"
      ],
      "execution_count": 2,
      "outputs": [
        {
          "output_type": "execute_result",
          "data": {
            "text/html": [
              "<div>\n",
              "<style scoped>\n",
              "    .dataframe tbody tr th:only-of-type {\n",
              "        vertical-align: middle;\n",
              "    }\n",
              "\n",
              "    .dataframe tbody tr th {\n",
              "        vertical-align: top;\n",
              "    }\n",
              "\n",
              "    .dataframe thead th {\n",
              "        text-align: right;\n",
              "    }\n",
              "</style>\n",
              "<table border=\"1\" class=\"dataframe\">\n",
              "  <thead>\n",
              "    <tr style=\"text-align: right;\">\n",
              "      <th></th>\n",
              "      <th>Elevation</th>\n",
              "      <th>Aspect</th>\n",
              "      <th>Slope</th>\n",
              "      <th>Hillshade_9am</th>\n",
              "      <th>Hillshade_Noon</th>\n",
              "      <th>Horizontal_Distance_To_Hydrology</th>\n",
              "      <th>Vertical_Distance_To_Hydrology</th>\n",
              "      <th>Horizontal_Distance_To_Fire_Points</th>\n",
              "      <th>Soil_Type</th>\n",
              "      <th>Wilderness</th>\n",
              "      <th>target</th>\n",
              "    </tr>\n",
              "  </thead>\n",
              "  <tbody>\n",
              "    <tr>\n",
              "      <th>0</th>\n",
              "      <td>elevation_medium</td>\n",
              "      <td>aspect_medium</td>\n",
              "      <td>slope_low</td>\n",
              "      <td>hillshade_9am_max</td>\n",
              "      <td>hillnoon_max</td>\n",
              "      <td>0</td>\n",
              "      <td>1</td>\n",
              "      <td>low</td>\n",
              "      <td>22</td>\n",
              "      <td>0</td>\n",
              "      <td>2</td>\n",
              "    </tr>\n",
              "    <tr>\n",
              "      <th>1</th>\n",
              "      <td>elevation_high</td>\n",
              "      <td>aspect_medium</td>\n",
              "      <td>slope_low</td>\n",
              "      <td>hillshade_9am_max</td>\n",
              "      <td>hillnoon_max</td>\n",
              "      <td>1</td>\n",
              "      <td>1</td>\n",
              "      <td>mid</td>\n",
              "      <td>32</td>\n",
              "      <td>2</td>\n",
              "      <td>1</td>\n",
              "    </tr>\n",
              "    <tr>\n",
              "      <th>2</th>\n",
              "      <td>elevation_medium</td>\n",
              "      <td>aspect_low</td>\n",
              "      <td>slope_low</td>\n",
              "      <td>hillshade_9am_max</td>\n",
              "      <td>hillnoon_max</td>\n",
              "      <td>1</td>\n",
              "      <td>1</td>\n",
              "      <td>low</td>\n",
              "      <td>10</td>\n",
              "      <td>2</td>\n",
              "      <td>2</td>\n",
              "    </tr>\n",
              "    <tr>\n",
              "      <th>3</th>\n",
              "      <td>elevation_high</td>\n",
              "      <td>aspect_ultra</td>\n",
              "      <td>slope_medium</td>\n",
              "      <td>hillshade_9am_max</td>\n",
              "      <td>hillnoon_max</td>\n",
              "      <td>2</td>\n",
              "      <td>1</td>\n",
              "      <td>low</td>\n",
              "      <td>23</td>\n",
              "      <td>2</td>\n",
              "      <td>1</td>\n",
              "    </tr>\n",
              "    <tr>\n",
              "      <th>4</th>\n",
              "      <td>elevation_high</td>\n",
              "      <td>aspect_high</td>\n",
              "      <td>slope_low</td>\n",
              "      <td>hillshade_9am_max</td>\n",
              "      <td>hillnoon_max</td>\n",
              "      <td>2</td>\n",
              "      <td>1</td>\n",
              "      <td>mid</td>\n",
              "      <td>28</td>\n",
              "      <td>0</td>\n",
              "      <td>2</td>\n",
              "    </tr>\n",
              "  </tbody>\n",
              "</table>\n",
              "</div>"
            ],
            "text/plain": [
              "          Elevation         Aspect         Slope  ... Soil_Type Wilderness  target\n",
              "0  elevation_medium  aspect_medium     slope_low  ...        22          0       2\n",
              "1    elevation_high  aspect_medium     slope_low  ...        32          2       1\n",
              "2  elevation_medium     aspect_low     slope_low  ...        10          2       2\n",
              "3    elevation_high   aspect_ultra  slope_medium  ...        23          2       1\n",
              "4    elevation_high    aspect_high     slope_low  ...        28          0       2\n",
              "\n",
              "[5 rows x 11 columns]"
            ]
          },
          "metadata": {},
          "execution_count": 2
        }
      ]
    },
    {
      "cell_type": "code",
      "metadata": {
        "colab": {
          "base_uri": "https://localhost:8080/"
        },
        "id": "_txCmizNWIFt",
        "outputId": "b05483ab-8c6b-4f1a-abec-4d828d4d6c3c"
      },
      "source": [
        "data.drop(data.tail(402598).index, inplace = True)\n",
        "data.target = data.target - 1\n",
        "true_labels= data['target']\n",
        "data.drop(columns=['target'], inplace=True)\n",
        "data.head()\n",
        "data.shape"
      ],
      "execution_count": 3,
      "outputs": [
        {
          "output_type": "execute_result",
          "data": {
            "text/plain": [
              "(4110, 10)"
            ]
          },
          "metadata": {},
          "execution_count": 3
        }
      ]
    },
    {
      "cell_type": "markdown",
      "metadata": {
        "id": "lFeg5U0ilHe_"
      },
      "source": [
        "To get the numerical labels"
      ]
    },
    {
      "cell_type": "code",
      "metadata": {
        "id": "i9xNXO6jWQ9j"
      },
      "source": [
        "from sklearn import preprocessing \n",
        "label_encoder = preprocessing.LabelEncoder() "
      ],
      "execution_count": 4,
      "outputs": []
    },
    {
      "cell_type": "code",
      "metadata": {
        "id": "LdPAyak8p7qA"
      },
      "source": [
        "data['Elevation']= label_encoder.fit_transform(data['Elevation']) \n",
        "data['Aspect']= label_encoder.fit_transform(data['Aspect']) \n",
        "data['Slope']= label_encoder.fit_transform(data['Slope']) \n",
        "data['Wilderness']= label_encoder.fit_transform(data['Wilderness']) \n",
        "data['Soil_Type']= label_encoder.fit_transform(data['Soil_Type']) \n",
        "data['Hillshade_9am']= label_encoder.fit_transform(data['Hillshade_9am']) \n",
        "data['Hillshade_Noon']= label_encoder.fit_transform(data['Hillshade_Noon']) \n",
        "data['Horizontal_Distance_To_Hydrology']= label_encoder.fit_transform(data['Horizontal_Distance_To_Hydrology']) \n",
        "data['Vertical_Distance_To_Hydrology']= label_encoder.fit_transform(data['Vertical_Distance_To_Hydrology']) \n",
        "data['Horizontal_Distance_To_Fire_Points']= label_encoder.fit_transform(data['Horizontal_Distance_To_Fire_Points'])"
      ],
      "execution_count": 5,
      "outputs": []
    },
    {
      "cell_type": "code",
      "metadata": {
        "colab": {
          "base_uri": "https://localhost:8080/",
          "height": 696
        },
        "id": "Rwpb62p_XlQW",
        "outputId": "b8078630-3676-4f9a-d14a-a248f370c383"
      },
      "source": [
        "data.head(20)"
      ],
      "execution_count": 6,
      "outputs": [
        {
          "output_type": "execute_result",
          "data": {
            "text/html": [
              "<div>\n",
              "<style scoped>\n",
              "    .dataframe tbody tr th:only-of-type {\n",
              "        vertical-align: middle;\n",
              "    }\n",
              "\n",
              "    .dataframe tbody tr th {\n",
              "        vertical-align: top;\n",
              "    }\n",
              "\n",
              "    .dataframe thead th {\n",
              "        text-align: right;\n",
              "    }\n",
              "</style>\n",
              "<table border=\"1\" class=\"dataframe\">\n",
              "  <thead>\n",
              "    <tr style=\"text-align: right;\">\n",
              "      <th></th>\n",
              "      <th>Elevation</th>\n",
              "      <th>Aspect</th>\n",
              "      <th>Slope</th>\n",
              "      <th>Hillshade_9am</th>\n",
              "      <th>Hillshade_Noon</th>\n",
              "      <th>Horizontal_Distance_To_Hydrology</th>\n",
              "      <th>Vertical_Distance_To_Hydrology</th>\n",
              "      <th>Horizontal_Distance_To_Fire_Points</th>\n",
              "      <th>Soil_Type</th>\n",
              "      <th>Wilderness</th>\n",
              "    </tr>\n",
              "  </thead>\n",
              "  <tbody>\n",
              "    <tr>\n",
              "      <th>0</th>\n",
              "      <td>2</td>\n",
              "      <td>2</td>\n",
              "      <td>1</td>\n",
              "      <td>0</td>\n",
              "      <td>0</td>\n",
              "      <td>0</td>\n",
              "      <td>1</td>\n",
              "      <td>1</td>\n",
              "      <td>20</td>\n",
              "      <td>0</td>\n",
              "    </tr>\n",
              "    <tr>\n",
              "      <th>1</th>\n",
              "      <td>0</td>\n",
              "      <td>2</td>\n",
              "      <td>1</td>\n",
              "      <td>0</td>\n",
              "      <td>0</td>\n",
              "      <td>1</td>\n",
              "      <td>1</td>\n",
              "      <td>2</td>\n",
              "      <td>30</td>\n",
              "      <td>2</td>\n",
              "    </tr>\n",
              "    <tr>\n",
              "      <th>2</th>\n",
              "      <td>2</td>\n",
              "      <td>1</td>\n",
              "      <td>1</td>\n",
              "      <td>0</td>\n",
              "      <td>0</td>\n",
              "      <td>1</td>\n",
              "      <td>1</td>\n",
              "      <td>1</td>\n",
              "      <td>9</td>\n",
              "      <td>2</td>\n",
              "    </tr>\n",
              "    <tr>\n",
              "      <th>3</th>\n",
              "      <td>0</td>\n",
              "      <td>3</td>\n",
              "      <td>2</td>\n",
              "      <td>0</td>\n",
              "      <td>0</td>\n",
              "      <td>2</td>\n",
              "      <td>1</td>\n",
              "      <td>1</td>\n",
              "      <td>21</td>\n",
              "      <td>2</td>\n",
              "    </tr>\n",
              "    <tr>\n",
              "      <th>4</th>\n",
              "      <td>0</td>\n",
              "      <td>0</td>\n",
              "      <td>1</td>\n",
              "      <td>0</td>\n",
              "      <td>0</td>\n",
              "      <td>2</td>\n",
              "      <td>1</td>\n",
              "      <td>2</td>\n",
              "      <td>26</td>\n",
              "      <td>0</td>\n",
              "    </tr>\n",
              "    <tr>\n",
              "      <th>5</th>\n",
              "      <td>0</td>\n",
              "      <td>1</td>\n",
              "      <td>1</td>\n",
              "      <td>0</td>\n",
              "      <td>0</td>\n",
              "      <td>1</td>\n",
              "      <td>1</td>\n",
              "      <td>1</td>\n",
              "      <td>26</td>\n",
              "      <td>0</td>\n",
              "    </tr>\n",
              "    <tr>\n",
              "      <th>6</th>\n",
              "      <td>2</td>\n",
              "      <td>3</td>\n",
              "      <td>0</td>\n",
              "      <td>1</td>\n",
              "      <td>0</td>\n",
              "      <td>1</td>\n",
              "      <td>2</td>\n",
              "      <td>1</td>\n",
              "      <td>8</td>\n",
              "      <td>3</td>\n",
              "    </tr>\n",
              "    <tr>\n",
              "      <th>7</th>\n",
              "      <td>0</td>\n",
              "      <td>1</td>\n",
              "      <td>1</td>\n",
              "      <td>0</td>\n",
              "      <td>0</td>\n",
              "      <td>0</td>\n",
              "      <td>1</td>\n",
              "      <td>2</td>\n",
              "      <td>20</td>\n",
              "      <td>1</td>\n",
              "    </tr>\n",
              "    <tr>\n",
              "      <th>8</th>\n",
              "      <td>2</td>\n",
              "      <td>1</td>\n",
              "      <td>1</td>\n",
              "      <td>0</td>\n",
              "      <td>0</td>\n",
              "      <td>0</td>\n",
              "      <td>1</td>\n",
              "      <td>0</td>\n",
              "      <td>26</td>\n",
              "      <td>0</td>\n",
              "    </tr>\n",
              "    <tr>\n",
              "      <th>9</th>\n",
              "      <td>2</td>\n",
              "      <td>1</td>\n",
              "      <td>1</td>\n",
              "      <td>0</td>\n",
              "      <td>0</td>\n",
              "      <td>0</td>\n",
              "      <td>1</td>\n",
              "      <td>2</td>\n",
              "      <td>20</td>\n",
              "      <td>0</td>\n",
              "    </tr>\n",
              "    <tr>\n",
              "      <th>10</th>\n",
              "      <td>3</td>\n",
              "      <td>1</td>\n",
              "      <td>1</td>\n",
              "      <td>0</td>\n",
              "      <td>0</td>\n",
              "      <td>2</td>\n",
              "      <td>2</td>\n",
              "      <td>1</td>\n",
              "      <td>35</td>\n",
              "      <td>0</td>\n",
              "    </tr>\n",
              "    <tr>\n",
              "      <th>11</th>\n",
              "      <td>0</td>\n",
              "      <td>2</td>\n",
              "      <td>1</td>\n",
              "      <td>0</td>\n",
              "      <td>0</td>\n",
              "      <td>1</td>\n",
              "      <td>1</td>\n",
              "      <td>1</td>\n",
              "      <td>29</td>\n",
              "      <td>2</td>\n",
              "    </tr>\n",
              "    <tr>\n",
              "      <th>12</th>\n",
              "      <td>2</td>\n",
              "      <td>2</td>\n",
              "      <td>1</td>\n",
              "      <td>0</td>\n",
              "      <td>0</td>\n",
              "      <td>0</td>\n",
              "      <td>1</td>\n",
              "      <td>2</td>\n",
              "      <td>27</td>\n",
              "      <td>0</td>\n",
              "    </tr>\n",
              "    <tr>\n",
              "      <th>13</th>\n",
              "      <td>0</td>\n",
              "      <td>3</td>\n",
              "      <td>1</td>\n",
              "      <td>0</td>\n",
              "      <td>0</td>\n",
              "      <td>0</td>\n",
              "      <td>1</td>\n",
              "      <td>2</td>\n",
              "      <td>13</td>\n",
              "      <td>0</td>\n",
              "    </tr>\n",
              "    <tr>\n",
              "      <th>14</th>\n",
              "      <td>0</td>\n",
              "      <td>3</td>\n",
              "      <td>2</td>\n",
              "      <td>0</td>\n",
              "      <td>0</td>\n",
              "      <td>3</td>\n",
              "      <td>1</td>\n",
              "      <td>1</td>\n",
              "      <td>30</td>\n",
              "      <td>2</td>\n",
              "    </tr>\n",
              "    <tr>\n",
              "      <th>15</th>\n",
              "      <td>0</td>\n",
              "      <td>1</td>\n",
              "      <td>1</td>\n",
              "      <td>0</td>\n",
              "      <td>0</td>\n",
              "      <td>2</td>\n",
              "      <td>2</td>\n",
              "      <td>1</td>\n",
              "      <td>26</td>\n",
              "      <td>0</td>\n",
              "    </tr>\n",
              "    <tr>\n",
              "      <th>16</th>\n",
              "      <td>2</td>\n",
              "      <td>2</td>\n",
              "      <td>0</td>\n",
              "      <td>0</td>\n",
              "      <td>0</td>\n",
              "      <td>0</td>\n",
              "      <td>1</td>\n",
              "      <td>0</td>\n",
              "      <td>27</td>\n",
              "      <td>0</td>\n",
              "    </tr>\n",
              "    <tr>\n",
              "      <th>17</th>\n",
              "      <td>0</td>\n",
              "      <td>1</td>\n",
              "      <td>1</td>\n",
              "      <td>0</td>\n",
              "      <td>0</td>\n",
              "      <td>1</td>\n",
              "      <td>1</td>\n",
              "      <td>1</td>\n",
              "      <td>19</td>\n",
              "      <td>0</td>\n",
              "    </tr>\n",
              "    <tr>\n",
              "      <th>18</th>\n",
              "      <td>0</td>\n",
              "      <td>2</td>\n",
              "      <td>2</td>\n",
              "      <td>0</td>\n",
              "      <td>0</td>\n",
              "      <td>1</td>\n",
              "      <td>1</td>\n",
              "      <td>1</td>\n",
              "      <td>26</td>\n",
              "      <td>0</td>\n",
              "    </tr>\n",
              "    <tr>\n",
              "      <th>19</th>\n",
              "      <td>0</td>\n",
              "      <td>0</td>\n",
              "      <td>2</td>\n",
              "      <td>0</td>\n",
              "      <td>0</td>\n",
              "      <td>0</td>\n",
              "      <td>1</td>\n",
              "      <td>1</td>\n",
              "      <td>30</td>\n",
              "      <td>2</td>\n",
              "    </tr>\n",
              "  </tbody>\n",
              "</table>\n",
              "</div>"
            ],
            "text/plain": [
              "    Elevation  Aspect  ...  Soil_Type  Wilderness\n",
              "0           2       2  ...         20           0\n",
              "1           0       2  ...         30           2\n",
              "2           2       1  ...          9           2\n",
              "3           0       3  ...         21           2\n",
              "4           0       0  ...         26           0\n",
              "5           0       1  ...         26           0\n",
              "6           2       3  ...          8           3\n",
              "7           0       1  ...         20           1\n",
              "8           2       1  ...         26           0\n",
              "9           2       1  ...         20           0\n",
              "10          3       1  ...         35           0\n",
              "11          0       2  ...         29           2\n",
              "12          2       2  ...         27           0\n",
              "13          0       3  ...         13           0\n",
              "14          0       3  ...         30           2\n",
              "15          0       1  ...         26           0\n",
              "16          2       2  ...         27           0\n",
              "17          0       1  ...         19           0\n",
              "18          0       2  ...         26           0\n",
              "19          0       0  ...         30           2\n",
              "\n",
              "[20 rows x 10 columns]"
            ]
          },
          "metadata": {},
          "execution_count": 6
        }
      ]
    },
    {
      "cell_type": "code",
      "metadata": {
        "colab": {
          "base_uri": "https://localhost:8080/"
        },
        "id": "Dhp82BJUYca8",
        "outputId": "8b91856c-6ce5-4f3f-9551-1db1ce04c652"
      },
      "source": [
        "dt = np.array(data)\n",
        "print(data.shape)\n",
        "print(dt)"
      ],
      "execution_count": 7,
      "outputs": [
        {
          "output_type": "stream",
          "name": "stdout",
          "text": [
            "(4110, 10)\n",
            "[[ 2  2  1 ...  1 20  0]\n",
            " [ 0  2  1 ...  2 30  2]\n",
            " [ 2  1  1 ...  1  9  2]\n",
            " ...\n",
            " [ 0  2  1 ...  2 26  0]\n",
            " [ 0  1  1 ...  1 28  2]\n",
            " [ 0  0  0 ...  1 30  2]]\n"
          ]
        }
      ]
    },
    {
      "cell_type": "code",
      "metadata": {
        "colab": {
          "base_uri": "https://localhost:8080/",
          "height": 443
        },
        "id": "lUimIpIIYxQc",
        "outputId": "85055b51-8445-40b8-fdc7-c8904e395abb"
      },
      "source": [
        "data[:]"
      ],
      "execution_count": 8,
      "outputs": [
        {
          "output_type": "execute_result",
          "data": {
            "text/html": [
              "<div>\n",
              "<style scoped>\n",
              "    .dataframe tbody tr th:only-of-type {\n",
              "        vertical-align: middle;\n",
              "    }\n",
              "\n",
              "    .dataframe tbody tr th {\n",
              "        vertical-align: top;\n",
              "    }\n",
              "\n",
              "    .dataframe thead th {\n",
              "        text-align: right;\n",
              "    }\n",
              "</style>\n",
              "<table border=\"1\" class=\"dataframe\">\n",
              "  <thead>\n",
              "    <tr style=\"text-align: right;\">\n",
              "      <th></th>\n",
              "      <th>Elevation</th>\n",
              "      <th>Aspect</th>\n",
              "      <th>Slope</th>\n",
              "      <th>Hillshade_9am</th>\n",
              "      <th>Hillshade_Noon</th>\n",
              "      <th>Horizontal_Distance_To_Hydrology</th>\n",
              "      <th>Vertical_Distance_To_Hydrology</th>\n",
              "      <th>Horizontal_Distance_To_Fire_Points</th>\n",
              "      <th>Soil_Type</th>\n",
              "      <th>Wilderness</th>\n",
              "    </tr>\n",
              "  </thead>\n",
              "  <tbody>\n",
              "    <tr>\n",
              "      <th>0</th>\n",
              "      <td>2</td>\n",
              "      <td>2</td>\n",
              "      <td>1</td>\n",
              "      <td>0</td>\n",
              "      <td>0</td>\n",
              "      <td>0</td>\n",
              "      <td>1</td>\n",
              "      <td>1</td>\n",
              "      <td>20</td>\n",
              "      <td>0</td>\n",
              "    </tr>\n",
              "    <tr>\n",
              "      <th>1</th>\n",
              "      <td>0</td>\n",
              "      <td>2</td>\n",
              "      <td>1</td>\n",
              "      <td>0</td>\n",
              "      <td>0</td>\n",
              "      <td>1</td>\n",
              "      <td>1</td>\n",
              "      <td>2</td>\n",
              "      <td>30</td>\n",
              "      <td>2</td>\n",
              "    </tr>\n",
              "    <tr>\n",
              "      <th>2</th>\n",
              "      <td>2</td>\n",
              "      <td>1</td>\n",
              "      <td>1</td>\n",
              "      <td>0</td>\n",
              "      <td>0</td>\n",
              "      <td>1</td>\n",
              "      <td>1</td>\n",
              "      <td>1</td>\n",
              "      <td>9</td>\n",
              "      <td>2</td>\n",
              "    </tr>\n",
              "    <tr>\n",
              "      <th>3</th>\n",
              "      <td>0</td>\n",
              "      <td>3</td>\n",
              "      <td>2</td>\n",
              "      <td>0</td>\n",
              "      <td>0</td>\n",
              "      <td>2</td>\n",
              "      <td>1</td>\n",
              "      <td>1</td>\n",
              "      <td>21</td>\n",
              "      <td>2</td>\n",
              "    </tr>\n",
              "    <tr>\n",
              "      <th>4</th>\n",
              "      <td>0</td>\n",
              "      <td>0</td>\n",
              "      <td>1</td>\n",
              "      <td>0</td>\n",
              "      <td>0</td>\n",
              "      <td>2</td>\n",
              "      <td>1</td>\n",
              "      <td>2</td>\n",
              "      <td>26</td>\n",
              "      <td>0</td>\n",
              "    </tr>\n",
              "    <tr>\n",
              "      <th>...</th>\n",
              "      <td>...</td>\n",
              "      <td>...</td>\n",
              "      <td>...</td>\n",
              "      <td>...</td>\n",
              "      <td>...</td>\n",
              "      <td>...</td>\n",
              "      <td>...</td>\n",
              "      <td>...</td>\n",
              "      <td>...</td>\n",
              "      <td>...</td>\n",
              "    </tr>\n",
              "    <tr>\n",
              "      <th>4105</th>\n",
              "      <td>0</td>\n",
              "      <td>2</td>\n",
              "      <td>1</td>\n",
              "      <td>0</td>\n",
              "      <td>0</td>\n",
              "      <td>1</td>\n",
              "      <td>1</td>\n",
              "      <td>1</td>\n",
              "      <td>19</td>\n",
              "      <td>0</td>\n",
              "    </tr>\n",
              "    <tr>\n",
              "      <th>4106</th>\n",
              "      <td>0</td>\n",
              "      <td>2</td>\n",
              "      <td>2</td>\n",
              "      <td>0</td>\n",
              "      <td>0</td>\n",
              "      <td>1</td>\n",
              "      <td>2</td>\n",
              "      <td>1</td>\n",
              "      <td>30</td>\n",
              "      <td>2</td>\n",
              "    </tr>\n",
              "    <tr>\n",
              "      <th>4107</th>\n",
              "      <td>0</td>\n",
              "      <td>2</td>\n",
              "      <td>1</td>\n",
              "      <td>0</td>\n",
              "      <td>0</td>\n",
              "      <td>0</td>\n",
              "      <td>1</td>\n",
              "      <td>2</td>\n",
              "      <td>26</td>\n",
              "      <td>0</td>\n",
              "    </tr>\n",
              "    <tr>\n",
              "      <th>4108</th>\n",
              "      <td>0</td>\n",
              "      <td>1</td>\n",
              "      <td>1</td>\n",
              "      <td>0</td>\n",
              "      <td>0</td>\n",
              "      <td>1</td>\n",
              "      <td>1</td>\n",
              "      <td>1</td>\n",
              "      <td>28</td>\n",
              "      <td>2</td>\n",
              "    </tr>\n",
              "    <tr>\n",
              "      <th>4109</th>\n",
              "      <td>0</td>\n",
              "      <td>0</td>\n",
              "      <td>0</td>\n",
              "      <td>0</td>\n",
              "      <td>0</td>\n",
              "      <td>1</td>\n",
              "      <td>2</td>\n",
              "      <td>1</td>\n",
              "      <td>30</td>\n",
              "      <td>2</td>\n",
              "    </tr>\n",
              "  </tbody>\n",
              "</table>\n",
              "<p>4110 rows × 10 columns</p>\n",
              "</div>"
            ],
            "text/plain": [
              "      Elevation  Aspect  ...  Soil_Type  Wilderness\n",
              "0             2       2  ...         20           0\n",
              "1             0       2  ...         30           2\n",
              "2             2       1  ...          9           2\n",
              "3             0       3  ...         21           2\n",
              "4             0       0  ...         26           0\n",
              "...         ...     ...  ...        ...         ...\n",
              "4105          0       2  ...         19           0\n",
              "4106          0       2  ...         30           2\n",
              "4107          0       2  ...         26           0\n",
              "4108          0       1  ...         28           2\n",
              "4109          0       0  ...         30           2\n",
              "\n",
              "[4110 rows x 10 columns]"
            ]
          },
          "metadata": {},
          "execution_count": 8
        }
      ]
    },
    {
      "cell_type": "code",
      "metadata": {
        "colab": {
          "base_uri": "https://localhost:8080/"
        },
        "id": "0brzIpihY6Xf",
        "outputId": "0f21e312-a5b9-47bb-dfc7-1ba3a44f624f"
      },
      "source": [
        "data = tsne(n_components=2).fit_transform(dt)"
      ],
      "execution_count": 9,
      "outputs": [
        {
          "output_type": "stream",
          "name": "stderr",
          "text": [
            "/usr/local/lib/python3.7/dist-packages/sklearn/manifold/_t_sne.py:783: FutureWarning: The default initialization in TSNE will change from 'random' to 'pca' in 1.2.\n",
            "  FutureWarning,\n",
            "/usr/local/lib/python3.7/dist-packages/sklearn/manifold/_t_sne.py:793: FutureWarning: The default learning rate in TSNE will change from 200.0 to 'auto' in 1.2.\n",
            "  FutureWarning,\n"
          ]
        }
      ]
    },
    {
      "cell_type": "code",
      "metadata": {
        "colab": {
          "base_uri": "https://localhost:8080/"
        },
        "id": "GIRhAdUKyjzg",
        "outputId": "f5e4df54-f93a-4311-ceed-45f4b5f0f81e"
      },
      "source": [
        "data"
      ],
      "execution_count": 10,
      "outputs": [
        {
          "output_type": "execute_result",
          "data": {
            "text/plain": [
              "array([[-62.350174,  12.679019],\n",
              "       [ 35.92208 , -16.434448],\n",
              "       [-59.49715 , -30.232405],\n",
              "       ...,\n",
              "       [ 33.87341 ,  57.536446],\n",
              "       [ 15.631023, -13.376208],\n",
              "       [ 25.418116, -11.235606]], dtype=float32)"
            ]
          },
          "metadata": {},
          "execution_count": 10
        }
      ]
    },
    {
      "cell_type": "markdown",
      "metadata": {
        "id": "niORJtIMMGwm"
      },
      "source": [
        "\n",
        "\n",
        "```\n",
        "# This is formatted as code\n",
        "```\n",
        "\n",
        "## **K-mean Clustering**"
      ]
    },
    {
      "cell_type": "code",
      "metadata": {
        "colab": {
          "base_uri": "https://localhost:8080/"
        },
        "id": "MKaPqC9LhhVw",
        "outputId": "f9fd1195-9321-47d9-ec4b-940dff2a6022"
      },
      "source": [
        "kmeans = KMeans(n_clusters=7,max_iter=60,random_state=100).fit(data)\n",
        "kmean_labels = kmeans.labels_\n",
        "print(kmean_labels)"
      ],
      "execution_count": 11,
      "outputs": [
        {
          "output_type": "stream",
          "name": "stdout",
          "text": [
            "[2 3 6 ... 1 3 3]\n"
          ]
        }
      ]
    },
    {
      "cell_type": "markdown",
      "metadata": {
        "id": "q9A2k5q-MWs4"
      },
      "source": [
        "Finding the centroids"
      ]
    },
    {
      "cell_type": "code",
      "metadata": {
        "colab": {
          "base_uri": "https://localhost:8080/"
        },
        "id": "-9kxiBLqH3II",
        "outputId": "28c55b83-2b5c-4210-b6e0-2262f7406f79"
      },
      "source": [
        "kmean_centroids = kmeans.cluster_centers_\n",
        "print(kmean_centroids)"
      ],
      "execution_count": 12,
      "outputs": [
        {
          "output_type": "stream",
          "name": "stdout",
          "text": [
            "[[ 44.422707  -55.098312 ]\n",
            " [ 25.848034   42.008358 ]\n",
            " [-30.710293   13.162608 ]\n",
            " [ 34.96582   -10.406835 ]\n",
            " [-26.075895   65.08647  ]\n",
            " [ -4.5871906 -65.14395  ]\n",
            " [-49.996567  -29.148289 ]]\n"
          ]
        }
      ]
    },
    {
      "cell_type": "markdown",
      "metadata": {
        "id": "wExmYZ7TMd9j"
      },
      "source": [
        "Visualization of the clusters"
      ]
    },
    {
      "cell_type": "code",
      "metadata": {
        "colab": {
          "base_uri": "https://localhost:8080/",
          "height": 267
        },
        "id": "--x9zrfvh1Jr",
        "outputId": "26d4e84e-3c56-4dc4-eb6b-dcf89a55f163"
      },
      "source": [
        "#https://www.analyticsvidhya.com/blog/2019/10/gaussian-mixture-models-clustering/\n",
        "\n",
        "frame = pd.DataFrame(data)\n",
        "frame['cluster'] = kmean_labels\n",
        "frame.columns = ['Weight', 'Height', 'cluster']\n",
        "\n",
        "color=['blue','green','cyan', 'black','red','purple','yellow']\n",
        "for k in range(0,7):\n",
        "    reduced_data = frame[frame[\"cluster\"]==k]\n",
        "    plt.scatter(reduced_data[\"Weight\"],reduced_data[\"Height\"],c=color[k])\n",
        "plt.show()"
      ],
      "execution_count": 13,
      "outputs": [
        {
          "output_type": "display_data",
          "data": {
            "image/png": "[encoded data removed]",
            "text/plain": [
              "<Figure size 432x288 with 1 Axes>"
            ]
          },
          "metadata": {
            "needs_background": "light"
          }
        }
      ]
    },
    {
      "cell_type": "code",
      "metadata": {
        "colab": {
          "base_uri": "https://localhost:8080/"
        },
        "id": "3jO7-Nqwip3E",
        "outputId": "500dce1f-d607-460f-f270-92c818a3f626"
      },
      "source": [
        "label_list = list(np.unique(kmean_labels))\n",
        "PtsInCluster = []\n",
        "for val in label_list:\n",
        "  PtsInCluster.append(list(kmean_labels).count(val))\n",
        "print(PtsInCluster)"
      ],
      "execution_count": 14,
      "outputs": [
        {
          "output_type": "stream",
          "name": "stdout",
          "text": [
            "[228, 810, 942, 880, 273, 480, 497]\n"
          ]
        }
      ]
    },
    {
      "cell_type": "markdown",
      "metadata": {
        "id": "4m-ZYJlqowNF"
      },
      "source": [
        "Comparison between cluster distribution and true label count."
      ]
    },
    {
      "cell_type": "code",
      "metadata": {
        "colab": {
          "base_uri": "https://localhost:8080/"
        },
        "id": "blQt6akxWPoY",
        "outputId": "7a0e812e-76e0-46d0-b410-a9827e02c07c"
      },
      "source": [
        "adjusted_mutual_info_score(true_labels, kmean_labels)"
      ],
      "execution_count": 15,
      "outputs": [
        {
          "output_type": "execute_result",
          "data": {
            "text/plain": [
              "0.20695032105105654"
            ]
          },
          "metadata": {},
          "execution_count": 15
        }
      ]
    },
    {
      "cell_type": "markdown",
      "metadata": {
        "id": "J-4QwVYnlhaK"
      },
      "source": [
        "## **DBSCAN Clustering**"
      ]
    },
    {
      "cell_type": "code",
      "metadata": {
        "id": "1rzOB398jVp2"
      },
      "source": [
        "dbscan = DBSCAN(eps=16, min_samples=4).fit(data)\n",
        "dbscan_labels = dbscan.labels_\n"
      ],
      "execution_count": 18,
      "outputs": []
    },
    {
      "cell_type": "markdown",
      "metadata": {
        "id": "uy0NH99Cl_Pc"
      },
      "source": [
        "Finding the centroids"
      ]
    },
    {
      "cell_type": "code",
      "metadata": {
        "colab": {
          "base_uri": "https://localhost:8080/"
        },
        "id": "rFgI3OuijgpY",
        "outputId": "0044df8d-4f32-4415-c2bc-8266abeef112"
      },
      "source": [
        "from sklearn.neighbors import NearestCentroid\n",
        "clf=NearestCentroid()\n",
        "X=dbscan.fit_predict(data)\n",
        "clf.fit(data,X)\n",
        "print((clf.centroids_))"
      ],
      "execution_count": 19,
      "outputs": [
        {
          "output_type": "stream",
          "name": "stdout",
          "text": [
            "[[ 96.48691559  28.79241562]\n",
            " [-26.3081665   -2.28263259]\n",
            " [ 30.55674744  14.70688438]\n",
            " [-62.83457947 -29.41551208]\n",
            " [ 44.42271423 -55.09828949]\n",
            " [-26.07589912  65.08648682]\n",
            " [ -2.65670276 -78.65802002]]\n"
          ]
        }
      ]
    },
    {
      "cell_type": "markdown",
      "metadata": {
        "id": "mi2NrEgNmMtz"
      },
      "source": [
        "Visualization of the clusters"
      ]
    },
    {
      "cell_type": "code",
      "metadata": {
        "colab": {
          "base_uri": "https://localhost:8080/",
          "height": 267
        },
        "id": "eApbxXZYmPHX",
        "outputId": "c7fd1aa3-f516-47b1-a974-20310e1b72c3"
      },
      "source": [
        "#https://www.analyticsvidhya.com/blog/2019/10/gaussian-mixture-models-clustering/\n",
        "frame = pd.DataFrame(data)\n",
        "frame['cluster'] = dbscan_labels\n",
        "frame.columns = ['Weight', 'Height', 'cluster']\n",
        "\n",
        "color=['blue','green','cyan', 'black','red','purple','yellow']\n",
        "for k in range(0,7):\n",
        "    reduced_data = frame[frame[\"cluster\"]==k]\n",
        "    plt.scatter(reduced_data[\"Weight\"],reduced_data[\"Height\"],c=color[k])\n",
        "plt.show()"
      ],
      "execution_count": 20,
      "outputs": [
        {
          "output_type": "display_data",
          "data": {
            "image/png": "[encoded data removed]",
            "text/plain": [
              "<Figure size 432x288 with 1 Axes>"
            ]
          },
          "metadata": {
            "needs_background": "light"
          }
        }
      ]
    },
    {
      "cell_type": "code",
      "metadata": {
        "colab": {
          "base_uri": "https://localhost:8080/"
        },
        "id": "ad8Wubb_m5dN",
        "outputId": "2c3fc866-938b-44da-8e20-5b4f42b8c401"
      },
      "source": [
        "label_list = list(np.unique(dbscan_labels))\n",
        "PtsInCluster = []\n",
        "for val in label_list:\n",
        "  PtsInCluster.append(list(dbscan_labels).count(val))\n",
        "print(PtsInCluster)"
      ],
      "execution_count": 21,
      "outputs": [
        {
          "output_type": "stream",
          "name": "stdout",
          "text": [
            "[1, 1332, 1689, 322, 228, 273, 265]\n"
          ]
        }
      ]
    },
    {
      "cell_type": "markdown",
      "metadata": {
        "id": "vtle4UgLouVU"
      },
      "source": [
        "Comparison between cluster distribution and true label count."
      ]
    },
    {
      "cell_type": "code",
      "metadata": {
        "colab": {
          "base_uri": "https://localhost:8080/"
        },
        "id": "W0OkMLDqd11h",
        "outputId": "ecc2cdff-4511-44e1-e062-1a99dcfc784b"
      },
      "source": [
        "adjusted_mutual_info_score(true_labels, dbscan_labels)"
      ],
      "execution_count": 22,
      "outputs": [
        {
          "output_type": "execute_result",
          "data": {
            "text/plain": [
              "0.249497909492075"
            ]
          },
          "metadata": {},
          "execution_count": 22
        }
      ]
    },
    {
      "cell_type": "markdown",
      "metadata": {
        "id": "7jx_5NuRlmON"
      },
      "source": [
        "## **Aglomerative Clustering**"
      ]
    },
    {
      "cell_type": "code",
      "metadata": {
        "id": "5oOYlQDgnQMX"
      },
      "source": [
        "from sklearn.cluster import AgglomerativeClustering"
      ],
      "execution_count": 23,
      "outputs": []
    },
    {
      "cell_type": "code",
      "metadata": {
        "id": "oQz56OZdnViL"
      },
      "source": [
        "Agmc = AgglomerativeClustering(n_clusters=7).fit(data)\n",
        "Agmc_labels = Agmc.labels_\n"
      ],
      "execution_count": 24,
      "outputs": []
    },
    {
      "cell_type": "markdown",
      "metadata": {
        "id": "Vs92_SxVmC5i"
      },
      "source": [
        "Finding the centroids"
      ]
    },
    {
      "cell_type": "code",
      "metadata": {
        "colab": {
          "base_uri": "https://localhost:8080/"
        },
        "id": "Gc8v-QvqnYJ4",
        "outputId": "a7bcf797-097b-4451-e3c2-c4aae5bd86c7"
      },
      "source": [
        "from sklearn.neighbors import NearestCentroid\n",
        "clf=NearestCentroid()\n",
        "X=Agmc.fit_predict(data)\n",
        "clf.fit(data,X)\n",
        "print(clf.centroids_)"
      ],
      "execution_count": 25,
      "outputs": [
        {
          "output_type": "stream",
          "name": "stdout",
          "text": [
            "[[-43.85418701 -25.51428604]\n",
            " [ 35.03565216 -10.36235142]\n",
            " [-32.56026459  16.40764809]\n",
            " [ 25.76071358  42.02465057]\n",
            " [ -4.5871892  -65.14392853]\n",
            " [-26.07589912  65.08648682]\n",
            " [ 44.42271423 -55.09828949]]\n"
          ]
        }
      ]
    },
    {
      "cell_type": "markdown",
      "metadata": {
        "id": "_YUSUJHxmPtl"
      },
      "source": [
        "Visualization of the clusters"
      ]
    },
    {
      "cell_type": "code",
      "metadata": {
        "colab": {
          "base_uri": "https://localhost:8080/",
          "height": 267
        },
        "id": "wcvFuAj9ndBW",
        "outputId": "d72e0d36-e030-432a-e984-6fae2f90be4e"
      },
      "source": [
        "#https://www.analyticsvidhya.com/blog/2019/10/gaussian-mixture-models-clustering/\n",
        "frame = pd.DataFrame(data)\n",
        "frame['cluster'] = Agmc_labels\n",
        "frame.columns = ['Weight', 'Height', 'cluster']\n",
        "\n",
        "color=['blue','green','cyan', 'black','red','purple','yellow']\n",
        "for k in range(0,7):\n",
        "    reduced_data = frame[frame[\"cluster\"]==k]\n",
        "    plt.scatter(reduced_data[\"Weight\"],reduced_data[\"Height\"],c=color[k])\n",
        "plt.show()\n"
      ],
      "execution_count": 26,
      "outputs": [
        {
          "output_type": "display_data",
          "data": {
            "image/png": "[encoded data removed]",
            "text/plain": [
              "<Figure size 432x288 with 1 Axes>"
            ]
          },
          "metadata": {
            "needs_background": "light"
          }
        }
      ]
    },
    {
      "cell_type": "code",
      "metadata": {
        "colab": {
          "base_uri": "https://localhost:8080/"
        },
        "id": "tyZspfCxnfPl",
        "outputId": "67e81668-68c2-413e-bb2f-2d97a65f9b82"
      },
      "source": [
        "label_list = list(np.unique(Agmc_labels))\n",
        "PtsInCluster = []\n",
        "for val in label_list:\n",
        "  PtsInCluster.append(list(Agmc_labels).count(val))\n",
        "print(PtsInCluster)"
      ],
      "execution_count": 27,
      "outputs": [
        {
          "output_type": "stream",
          "name": "stdout",
          "text": [
            "[613, 881, 826, 809, 480, 273, 228]\n"
          ]
        }
      ]
    },
    {
      "cell_type": "markdown",
      "metadata": {
        "id": "jydTr5qrosCd"
      },
      "source": [
        "Comparison between cluster distribution and true label count."
      ]
    },
    {
      "cell_type": "code",
      "metadata": {
        "colab": {
          "base_uri": "https://localhost:8080/"
        },
        "id": "nixOTyWleNzi",
        "outputId": "f1c8b1ae-53e6-41de-cae8-a4b842543215"
      },
      "source": [
        "adjusted_mutual_info_score(true_labels, Agmc_labels)"
      ],
      "execution_count": 28,
      "outputs": [
        {
          "output_type": "execute_result",
          "data": {
            "text/plain": [
              "0.19771953065422737"
            ]
          },
          "metadata": {},
          "execution_count": 28
        }
      ]
    },
    {
      "cell_type": "markdown",
      "metadata": {
        "id": "1xJ3BwpElxL2"
      },
      "source": [
        "## **Gaussian Clustering**"
      ]
    },
    {
      "cell_type": "code",
      "metadata": {
        "id": "PMm4Kny8oN0p"
      },
      "source": [
        "from sklearn.mixture import GaussianMixture\n",
        "gsm = GaussianMixture(n_components=7)\n",
        "gsm.fit(data)\n",
        "gsm_labels = gsm.predict(data)"
      ],
      "execution_count": 29,
      "outputs": []
    },
    {
      "cell_type": "markdown",
      "metadata": {
        "id": "HvX1y1TnmE4Y"
      },
      "source": [
        "Finding the centroids"
      ]
    },
    {
      "cell_type": "code",
      "metadata": {
        "colab": {
          "base_uri": "https://localhost:8080/"
        },
        "id": "LjDSSpSp9XMs",
        "outputId": "809b644c-339a-429a-a295-2bfc2001234c"
      },
      "source": [
        "from sklearn.neighbors import NearestCentroid\n",
        "clf=NearestCentroid()\n",
        "X=gsm.fit_predict(data)\n",
        "clf.fit(data,X)\n",
        "print(clf.centroids_)"
      ],
      "execution_count": 30,
      "outputs": [
        {
          "output_type": "stream",
          "name": "stdout",
          "text": [
            "[[ 30.95767021 -10.87226009]\n",
            " [-52.02759933 -29.6005249 ]\n",
            " [-26.07589912  65.08648682]\n",
            " [ -4.5871892  -65.14392853]\n",
            " [ 25.76071358  42.02465057]\n",
            " [-31.63546562  14.62796116]\n",
            " [ 44.42271423 -55.09828949]]\n"
          ]
        }
      ]
    },
    {
      "cell_type": "markdown",
      "metadata": {
        "id": "zpxsvRFRmRel"
      },
      "source": [
        "Visualization of the clusters"
      ]
    },
    {
      "cell_type": "code",
      "metadata": {
        "colab": {
          "base_uri": "https://localhost:8080/",
          "height": 267
        },
        "id": "svx5KYpD9m6b",
        "outputId": "d2cdd02b-4038-4895-fd00-c2b56c1cef87"
      },
      "source": [
        "#https://www.analyticsvidhya.com/blog/2019/10/gaussian-mixture-models-clustering/\n",
        "frame = pd.DataFrame(data)\n",
        "frame['cluster'] = gsm_labels\n",
        "frame.columns = ['Weight', 'Height', 'cluster']\n",
        "\n",
        "color=['blue','green','cyan', 'black','red','purple','yellow']\n",
        "for k in range(0,7):\n",
        "    reduced_data = frame[frame[\"cluster\"]==k]\n",
        "    plt.scatter(reduced_data[\"Weight\"],reduced_data[\"Height\"],c=color[k])\n",
        "plt.show()"
      ],
      "execution_count": 31,
      "outputs": [
        {
          "output_type": "display_data",
          "data": {
            "image/png": "[encoded data removed]",
            "text/plain": [
              "<Figure size 432x288 with 1 Axes>"
            ]
          },
          "metadata": {
            "needs_background": "light"
          }
        }
      ]
    },
    {
      "cell_type": "code",
      "metadata": {
        "colab": {
          "base_uri": "https://localhost:8080/"
        },
        "id": "Ztpzse4ifAIb",
        "outputId": "07e0768a-33dc-4e5b-8daa-41def3e72d20"
      },
      "source": [
        "label_list = list(np.unique(gsm_labels))\n",
        "PtsInCluster = []\n",
        "for val in label_list:\n",
        "  PtsInCluster.append(list(gsm_labels).count(val))\n",
        "print(PtsInCluster)"
      ],
      "execution_count": 32,
      "outputs": [
        {
          "output_type": "stream",
          "name": "stdout",
          "text": [
            "[809, 480, 893, 959, 273, 228, 468]\n"
          ]
        }
      ]
    },
    {
      "cell_type": "markdown",
      "metadata": {
        "id": "vhj8eRbmol4s"
      },
      "source": [
        "Comparison between cluster distribution and true label count."
      ]
    },
    {
      "cell_type": "code",
      "metadata": {
        "colab": {
          "base_uri": "https://localhost:8080/"
        },
        "id": "j2StKc-ufHEC",
        "outputId": "180ed734-5f74-4b76-9b60-2a5a243ca6a6"
      },
      "source": [
        "adjusted_mutual_info_score(true_labels, gsm_labels)"
      ],
      "execution_count": 33,
      "outputs": [
        {
          "output_type": "execute_result",
          "data": {
            "text/plain": [
              "0.20659891978754266"
            ]
          },
          "metadata": {},
          "execution_count": 33
        }
      ]
    },
    {
      "cell_type": "markdown",
      "metadata": {
        "id": "OCafyTb59Kw1"
      },
      "source": [
        "# **Comaring Each mode with Gaussian Bases clustering model**"
      ]
    },
    {
      "cell_type": "code",
      "metadata": {
        "colab": {
          "base_uri": "https://localhost:8080/"
        },
        "id": "Biedf24RItUn",
        "outputId": "28164969-772a-41a8-bdcd-2ea35501ba95"
      },
      "source": [
        "adjusted_mutual_info_score(gsm_labels, kmean_labels)"
      ],
      "execution_count": 34,
      "outputs": [
        {
          "output_type": "execute_result",
          "data": {
            "text/plain": [
              "0.9573707747452824"
            ]
          },
          "metadata": {},
          "execution_count": 34
        }
      ]
    },
    {
      "cell_type": "code",
      "metadata": {
        "colab": {
          "base_uri": "https://localhost:8080/"
        },
        "id": "VWrlXOxmJD2L",
        "outputId": "8240106c-32d8-4bae-f0cc-d88db4211a94"
      },
      "source": [
        "adjusted_mutual_info_score(gsm_labels, dbscan_labels)"
      ],
      "execution_count": 35,
      "outputs": [
        {
          "output_type": "execute_result",
          "data": {
            "text/plain": [
              "0.7499824814017508"
            ]
          },
          "metadata": {},
          "execution_count": 35
        }
      ]
    },
    {
      "cell_type": "code",
      "metadata": {
        "colab": {
          "base_uri": "https://localhost:8080/"
        },
        "id": "jBkj28eIJdlO",
        "outputId": "17d6f42a-8992-404e-927d-8cabeccca77a"
      },
      "source": [
        "adjusted_mutual_info_score(gsm_labels, Agmc_labels)"
      ],
      "execution_count": 36,
      "outputs": [
        {
          "output_type": "execute_result",
          "data": {
            "text/plain": [
              "0.937406523359616"
            ]
          },
          "metadata": {},
          "execution_count": 36
        }
      ]
    }
  ]
}